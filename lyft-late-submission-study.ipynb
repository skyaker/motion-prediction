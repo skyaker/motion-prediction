{
 "cells": [
  {
   "cell_type": "markdown",
   "metadata": {
    "papermill": {
     "duration": 0.01009,
     "end_time": "2020-12-25T22:31:21.077110",
     "exception": false,
     "start_time": "2020-12-25T22:31:21.067020",
     "status": "completed"
    },
    "tags": []
   },
   "source": [
    "## Late submission study\n",
    "### Study targets \n",
    "* check the full train dataset benefit, as [this competition's winners noticed](https://www.kaggle.com/c/lyft-motion-prediction-autonomous-vehicles/discussion/199657).\n",
    "* check [CI and other tips for code quality](https://www.kaggle.com/c/lyft-motion-prediction-autonomous-vehicles/discussion/199506) by [iglovikov](https://www.kaggle.com/iglovikov).\n",
    "* to remove manual code writings, use pytorch-lighitning framework as possible.\n",
    "\n",
    "### Study summary\n",
    "* full train dataset benefit: using only 2 history frames but I got 11.376 with 1 epoch train_full.zarr training, \n",
    "  it's competitive to the gold medal zone score 11.325.\n",
    "* CI and other tips implementations can be checked at [my github](https://github.com/Fkaneko/kaggle-lyft-motion-pred) for this lyft motion prediction.\n",
    "  All tips are really nice, especially code fomatter, [black](https://github.com/psf/black) and [pre-commit](https://pre-commit.com/) are impressive. \n",
    "* using `pl.LightningDataModule` and `pl.LightningModule`, pytorch-lightinig can cover data loading to submission."
   ]
  },
  {
   "cell_type": "markdown",
   "metadata": {
    "papermill": {
     "duration": 0.008651,
     "end_time": "2020-12-25T22:31:21.095771",
     "exception": false,
     "start_time": "2020-12-25T22:31:21.087120",
     "status": "completed"
    },
    "tags": []
   },
   "source": [
    "### Imports and general settings"
   ]
  },
  {
   "cell_type": "code",
   "execution_count": 1,
   "metadata": {
    "_cell_guid": "79c7e3d0-c299-4dcb-8224-4455121ee9b0",
    "_uuid": "d629ff2d2480ee46fbb7e2d37f6b5fab8052498a",
    "execution": {
     "iopub.execute_input": "2020-12-25T22:31:21.122399Z",
     "iopub.status.busy": "2020-12-25T22:31:21.121666Z",
     "iopub.status.idle": "2020-12-25T22:31:36.359799Z",
     "shell.execute_reply": "2020-12-25T22:31:36.358750Z"
    },
    "papermill": {
     "duration": 15.255073,
     "end_time": "2020-12-25T22:31:36.359948",
     "exception": false,
     "start_time": "2020-12-25T22:31:21.104875",
     "status": "completed"
    },
    "tags": []
   },
   "outputs": [],
   "source": [
    "import argparse\n",
    "import os\n",
    "import random\n",
    "import sys\n",
    "from typing import Tuple\n",
    "\n",
    "import matplotlib.pyplot as plt\n",
    "import numpy as np\n",
    "import pytorch_lightning as pl\n",
    "import torch\n",
    "import l5kit # add at kaggle env  \n",
    "from l5kit.configs import load_config_data\n",
    "from l5kit.data import ChunkedDataset, LocalDataManager\n",
    "from l5kit.dataset import AgentDataset\n",
    "from l5kit.evaluation import compute_metrics_csv, write_pred_csv\n",
    "from l5kit.evaluation.metrics import neg_multi_log_likelihood, time_displace\n",
    "from l5kit.geometry import transform_points\n",
    "from l5kit.rasterization import build_rasterizer\n",
    "from l5kit.visualization import TARGET_POINTS_COLOR, draw_trajectory\n",
    "from torch.utils.data import DataLoader\n",
    "\n",
    "import lyft_loss\n",
    "import lyft_models\n",
    "import lyft_utils"
   ]
  },
  {
   "cell_type": "code",
   "execution_count": 2,
   "metadata": {
    "_cell_guid": "79c7e3d0-c299-4dcb-8224-4455121ee9b0",
    "_uuid": "d629ff2d2480ee46fbb7e2d37f6b5fab8052498a",
    "execution": {
     "iopub.execute_input": "2020-12-25T22:31:36.399116Z",
     "iopub.status.busy": "2020-12-25T22:31:36.398595Z",
     "iopub.status.idle": "2020-12-25T22:31:36.406458Z",
     "shell.execute_reply": "2020-12-25T22:31:36.405209Z"
    },
    "papermill": {
     "duration": 0.032402,
     "end_time": "2020-12-25T22:31:36.406638",
     "exception": false,
     "start_time": "2020-12-25T22:31:36.374236",
     "status": "completed"
    },
    "tags": []
   },
   "outputs": [],
   "source": [
    "ALL_DATA_SIZE = 198474478\n",
    "VAL_INTERVAL_SAMPLES = 250000\n",
    "\n",
    "# configuration file for raterization\n",
    "CFG_PATH = \"../input/lyft-mpred-seresnext26-pretrained/agent_motion_config.yaml\"\n",
    "# output path for test mode\n",
    "CSV_PATH = \"./submission.csv\"\n",
    "\n",
    "# for using the same sampling as test dataset agents,\n",
    "# these two FRAME settings are requried.\n",
    "# minimum number of frames an agents must have in the past to be picked\n",
    "MIN_FRAME_HISTORY = 0\n",
    "# minimum number of frames an agents must have in the future to be picked\n",
    "MIN_FRAME_FUTURE = 10\n",
    "VAL_SELECTED_FRAME = (99,)\n",
    "\n",
    "# set random seeds\n",
    "SEED = 42\n",
    "os.environ[\"PYTHONHASHSEED\"] = str(SEED)\n",
    "# set Python random seed\n",
    "random.seed(SEED)\n",
    "# set NumPy random seed\n",
    "np.random.seed(SEED)"
   ]
  },
  {
   "cell_type": "markdown",
   "metadata": {
    "papermill": {
     "duration": 0.015742,
     "end_time": "2020-12-25T22:31:36.439053",
     "exception": false,
     "start_time": "2020-12-25T22:31:36.423311",
     "status": "completed"
    },
    "tags": []
   },
   "source": [
    "### Run configuration"
   ]
  },
  {
   "cell_type": "code",
   "execution_count": 3,
   "metadata": {
    "_cell_guid": "79c7e3d0-c299-4dcb-8224-4455121ee9b0",
    "_uuid": "d629ff2d2480ee46fbb7e2d37f6b5fab8052498a",
    "execution": {
     "iopub.execute_input": "2020-12-25T22:31:36.484963Z",
     "iopub.status.busy": "2020-12-25T22:31:36.477302Z",
     "iopub.status.idle": "2020-12-25T22:31:36.549921Z",
     "shell.execute_reply": "2020-12-25T22:31:36.549310Z"
    },
    "papermill": {
     "duration": 0.09178,
     "end_time": "2020-12-25T22:31:36.550026",
     "exception": false,
     "start_time": "2020-12-25T22:31:36.458246",
     "status": "completed"
    },
    "tags": []
   },
   "outputs": [
    {
     "name": "stdout",
     "output_type": "stream",
     "text": [
      "\t ---- NORMAL RUN ---- \n",
      "PARAMETER SETTING\n",
      "--------------------------------------------------\n",
      "backbone_name            :seresnext26d_32x4d\n",
      "batch_size               :32\n",
      "ckpt_path                :../input/lyft-mpred-seresnext26-pretrained/epoch-v0.ckpt\n",
      "downsample_train         :False\n",
      "epochs                   :1\n",
      "find_lr                  :False\n",
      "is_debug                 :False\n",
      "is_test                  :True\n",
      "l5kit_data_folder        :../input/lyft-motion-prediction-autonomous-vehicles\n",
      "lr                       :0.0007\n",
      "num_modes                :3\n",
      "num_workers              :4\n",
      "optim_name               :sgd\n",
      "precision                :16\n",
      "visible_gpus             :0\n",
      "--------------------------------------------------\n"
     ]
    }
   ],
   "source": [
    "cfg = load_config_data(CFG_PATH)\n",
    "\n",
    "parser = argparse.ArgumentParser(\n",
    "    description=\"Run lyft motion prediction learning\",\n",
    "    formatter_class=argparse.ArgumentDefaultsHelpFormatter,\n",
    ")\n",
    "parser.add_argument(\n",
    "    \"--l5kit_data_folder\",\n",
    "    default=\"/your/dataset/path\",\n",
    "    type=str,\n",
    "    help=\"root directory path for lyft motion prediction dataset\",\n",
    ")\n",
    "parser.add_argument(\n",
    "    \"--optim_name\",\n",
    "    choices=[\"adam\", \"sgd\"],\n",
    "    default=\"sgd\",\n",
    "    help=\"optimizer name\",\n",
    ")\n",
    "parser.add_argument(\n",
    "    \"--num_modes\",\n",
    "    type=int,\n",
    "    default=3,\n",
    "    help=\"number of the modes on each prediction\",\n",
    ")\n",
    "parser.add_argument(\"--lr\", default=7.0e-4, type=float, help=\"learning rate\")\n",
    "parser.add_argument(\"--batch_size\", type=int, default=220, help=\"batch size\")\n",
    "parser.add_argument(\"--epochs\", type=int, default=1, help=\"epochs for training\")\n",
    "parser.add_argument(\n",
    "    \"--backbone_name\",\n",
    "    choices=[\"efficientnet_b1\", \"seresnext26d_32x4d\"],\n",
    "    default=\"seresnext26d_32x4d\",\n",
    "    help=\"backbone name\",\n",
    ")\n",
    "parser.add_argument(\n",
    "    \"--downsample_train\",\n",
    "    action=\"store_true\",\n",
    "    help=\"using only 4 frames from each scene, the loss converge is \\\n",
    "much faster than using all data, but it will get larger loss\",\n",
    ")\n",
    "parser.add_argument(\"--is_test\", action=\"store_true\", help=\"test mode\")\n",
    "parser.add_argument(\n",
    "    \"--ckpt_path\",\n",
    "    type=str,\n",
    "    default=\"./model.pth\",\n",
    "    help=\"path for model checkpoint at test mode\",\n",
    ")\n",
    "parser.add_argument(\n",
    "    \"--precision\",\n",
    "    default=16,\n",
    "    choices=[16, 32],\n",
    "    type=int,\n",
    "    help=\"float precision at training\",\n",
    ")\n",
    "parser.add_argument(\n",
    "    \"--visible_gpus\",\n",
    "    type=str,\n",
    "    default=\"0\",\n",
    "    help=\"Select gpu ids with comma separated format\",\n",
    ")\n",
    "parser.add_argument(\n",
    "    \"--find_lr\",\n",
    "    action=\"store_true\",\n",
    "    help=\"find lr with fast ai implementation\",\n",
    ")\n",
    "parser.add_argument(\n",
    "    \"--num_workers\",\n",
    "    default=\"16\",\n",
    "    type=int,\n",
    "    help=\"number of cpus for DataLoader\",\n",
    ")\n",
    "parser.add_argument(\"--is_debug\", action=\"store_true\", help=\"debug mode\")\n",
    "\n",
    "# args = parser.parse_args()\n",
    "args = parser.parse_args([\n",
    "    \"--l5kit_data_folder\",\n",
    "    \"../input/lyft-motion-prediction-autonomous-vehicles\",\n",
    "    \"--is_test\",\n",
    "    \"--ckpt_path\",\n",
    "    \"../input/lyft-mpred-seresnext26-pretrained/epoch-v0.ckpt\",\n",
    "   \"--num_workers\",\n",
    "    \"4\",\n",
    "    \"--batch_size\",\n",
    "    \"32\"\n",
    "    ])\n",
    "\n",
    "if args.is_debug:\n",
    "    DEBUG = True\n",
    "    print(\"\\t ---- DEBUG RUN ---- \")\n",
    "    cfg[\"train_data_loader\"][\"key\"] = \"scenes/sample.zarr\"\n",
    "    cfg[\"val_data_loader\"][\"key\"] = \"scenes/sample.zarr\"\n",
    "    VAL_INTERVAL_SAMPLES = 5000\n",
    "    args.batch_size = 16\n",
    "else:\n",
    "    DEBUG = False\n",
    "    print(\"\\t ---- NORMAL RUN ---- \")\n",
    "lyft_utils.print_argparse_arguments(args)\n",
    "\n",
    "os.environ[\"CUDA_VISIBLE_DEVICES\"] = args.visible_gpus\n"
   ]
  },
  {
   "cell_type": "markdown",
   "metadata": {
    "papermill": {
     "duration": 0.015154,
     "end_time": "2020-12-25T22:31:36.579901",
     "exception": false,
     "start_time": "2020-12-25T22:31:36.564747",
     "status": "completed"
    },
    "tags": []
   },
   "source": [
    "## Dataloader preparation\n",
    "`pl.LightningDataModule` for train, validation and test dataloader."
   ]
  },
  {
   "cell_type": "code",
   "execution_count": 4,
   "metadata": {
    "_cell_guid": "79c7e3d0-c299-4dcb-8224-4455121ee9b0",
    "_uuid": "d629ff2d2480ee46fbb7e2d37f6b5fab8052498a",
    "execution": {
     "iopub.execute_input": "2020-12-25T22:31:36.622487Z",
     "iopub.status.busy": "2020-12-25T22:31:36.621634Z",
     "iopub.status.idle": "2020-12-25T22:31:36.653765Z",
     "shell.execute_reply": "2020-12-25T22:31:36.654831Z"
    },
    "papermill": {
     "duration": 0.059747,
     "end_time": "2020-12-25T22:31:36.654988",
     "exception": false,
     "start_time": "2020-12-25T22:31:36.595241",
     "status": "completed"
    },
    "tags": []
   },
   "outputs": [],
   "source": [
    "class LyftMpredDatamodule(pl.LightningDataModule):\n",
    "    def __init__(\n",
    "        self,\n",
    "        l5kit_data_folder: str,\n",
    "        cfg: dict,\n",
    "        batch_size: int = 440,\n",
    "        num_workers: int = 16,\n",
    "        downsample_train: bool = False,\n",
    "        is_test: bool = False,\n",
    "        is_debug: bool = False,\n",
    "    ) -> None:\n",
    "        super().__init__()\n",
    "        os.environ[\"L5KIT_DATA_FOLDER\"] = l5kit_data_folder\n",
    "        self.cfg = cfg\n",
    "        self.batch_size = batch_size\n",
    "        self.num_workers = num_workers\n",
    "        self.downsample_train = downsample_train\n",
    "        self.is_test = is_test\n",
    "        self.is_debug = is_debug\n",
    "\n",
    "    def prepare_data(self):\n",
    "        # called only on 1 GPU\n",
    "        self.dm = LocalDataManager(None)\n",
    "        self.rasterizer = build_rasterizer(cfg, self.dm)\n",
    "\n",
    "    def setup(self):\n",
    "        # called on every GPU\n",
    "        if self.is_test:\n",
    "            print(\"test mode setup\")\n",
    "            self.test_path, test_zarr, self.test_dataset = self.load_zarr_dataset(\n",
    "                loader_name=\"test_data_loader\"\n",
    "            )\n",
    "        else:\n",
    "            print(\"train mode setup\")\n",
    "            self.train_path, train_zarr, self.train_dataset = self.load_zarr_dataset(\n",
    "                loader_name=\"train_data_loader\"\n",
    "            )\n",
    "            self.val_path, val_zarr, self.val_dataset = self.load_zarr_dataset(\n",
    "                loader_name=\"val_data_loader\"\n",
    "            )\n",
    "            self.plot_dataset(self.train_dataset)\n",
    "\n",
    "            if self.downsample_train:\n",
    "                print(\n",
    "                    \"downsampling agents, using only {} frames from each scene\".format(\n",
    "                        len(lyft_utils.TRAIN_DSAMPLE_FRAMES)\n",
    "                    )\n",
    "                )\n",
    "                train_agents_list = lyft_utils.downsample_agents(\n",
    "                    train_zarr,\n",
    "                    self.train_dataset,\n",
    "                    selected_frames=lyft_utils.TRAIN_DSAMPLE_FRAMES,\n",
    "                )\n",
    "                self.train_dataset = torch.utils.data.Subset(\n",
    "                    self.train_dataset, train_agents_list\n",
    "                )\n",
    "            # downsampling the validation dataset same as test dataset or\n",
    "            # l5kit.evaluation.create_chopped_dataset\n",
    "            val_agents_list = lyft_utils.downsample_agents(\n",
    "                val_zarr, self.val_dataset, selected_frames=VAL_SELECTED_FRAME\n",
    "            )\n",
    "            self.val_dataset = torch.utils.data.Subset(\n",
    "                self.val_dataset, val_agents_list\n",
    "            )\n",
    "\n",
    "    def train_dataloader(self):\n",
    "        return DataLoader(\n",
    "            self.train_dataset,\n",
    "            shuffle=True,\n",
    "            batch_size=self.batch_size,\n",
    "            num_workers=self.num_workers,\n",
    "        )\n",
    "\n",
    "    def val_dataloader(self):\n",
    "        return DataLoader(\n",
    "            self.val_dataset,\n",
    "            shuffle=False,\n",
    "            batch_size=self.batch_size,\n",
    "            num_workers=self.num_workers,\n",
    "        )\n",
    "\n",
    "    def test_dataloader(self):\n",
    "        return DataLoader(\n",
    "            self.test_dataset,\n",
    "            shuffle=False,\n",
    "            batch_size=self.batch_size,\n",
    "            num_workers=self.num_workers,\n",
    "        )\n",
    "\n",
    "    def load_zarr_dataset(\n",
    "        self, loader_name: str = \"train_data_loder\"\n",
    "    ) -> Tuple[str, ChunkedDataset, AgentDataset]:\n",
    "\n",
    "        zarr_path = self.dm.require(self.cfg[loader_name][\"key\"])\n",
    "        print(\"load zarr data:\", zarr_path)\n",
    "        zarr_dataset = ChunkedDataset(zarr_path).open()\n",
    "        if loader_name == \"test_data_loader\":\n",
    "            mask_path = os.path.join(os.path.dirname(zarr_path), \"mask.npz\")\n",
    "            agents_mask = np.load(mask_path)[\"arr_0\"]\n",
    "            agent_dataset = AgentDataset(\n",
    "                self.cfg, zarr_dataset, self.rasterizer, agents_mask=agents_mask\n",
    "            )\n",
    "        else:\n",
    "            agent_dataset = AgentDataset(\n",
    "                self.cfg,\n",
    "                zarr_dataset,\n",
    "                self.rasterizer,\n",
    "                min_frame_history=MIN_FRAME_HISTORY,\n",
    "                min_frame_future=MIN_FRAME_FUTURE,\n",
    "            )\n",
    "        print(zarr_dataset)\n",
    "        return zarr_path, zarr_dataset, agent_dataset\n",
    "\n",
    "    def plot_dataset(self, agent_dataset: AgentDataset, plot_num: int = 10) -> None:\n",
    "        print(\"Ploting dataset\")\n",
    "        ind = np.random.randint(0, len(agent_dataset), size=plot_num)\n",
    "        for i in range(plot_num):\n",
    "            data = agent_dataset[ind[i]]\n",
    "            im = data[\"image\"].transpose(1, 2, 0)\n",
    "            im = agent_dataset.rasterizer.to_rgb(im)\n",
    "            target_positions_pixels = transform_points(\n",
    "                data[\"target_positions\"], data[\"raster_from_agent\"]\n",
    "            )\n",
    "            draw_trajectory(\n",
    "                im,\n",
    "                target_positions_pixels,\n",
    "                TARGET_POINTS_COLOR,\n",
    "                yaws=data[\"target_yaws\"],\n",
    "            )\n",
    "            plt.imshow(im[::-1])\n",
    "            if self.is_debug:\n",
    "                plt.show()"
   ]
  },
  {
   "cell_type": "markdown",
   "metadata": {
    "papermill": {
     "duration": 0.015095,
     "end_time": "2020-12-25T22:31:36.686214",
     "exception": false,
     "start_time": "2020-12-25T22:31:36.671119",
     "status": "completed"
    },
    "tags": []
   },
   "source": [
    "## Train, validation and test steps\n",
    " with `pl.LightningModule`."
   ]
  },
  {
   "cell_type": "code",
   "execution_count": 5,
   "metadata": {
    "_cell_guid": "79c7e3d0-c299-4dcb-8224-4455121ee9b0",
    "_uuid": "d629ff2d2480ee46fbb7e2d37f6b5fab8052498a",
    "execution": {
     "iopub.execute_input": "2020-12-25T22:31:36.729403Z",
     "iopub.status.busy": "2020-12-25T22:31:36.728580Z",
     "iopub.status.idle": "2020-12-25T22:31:36.761340Z",
     "shell.execute_reply": "2020-12-25T22:31:36.762301Z"
    },
    "papermill": {
     "duration": 0.060627,
     "end_time": "2020-12-25T22:31:36.762449",
     "exception": false,
     "start_time": "2020-12-25T22:31:36.701822",
     "status": "completed"
    },
    "tags": []
   },
   "outputs": [],
   "source": [
    "class LitModel(pl.LightningModule):\n",
    "    def __init__(\n",
    "        self,\n",
    "        cfg: dict,\n",
    "        num_modes: int = 3,\n",
    "        ba_size: int = 128,\n",
    "        lr: float = 3.0e-4,\n",
    "        backbone_name: str = \"efficientnet_b1\",\n",
    "        epochs: int = 1,\n",
    "        total_steps: int = 100,\n",
    "        data_size: int = ALL_DATA_SIZE,\n",
    "        optim_name: str = \"adam\",\n",
    "    ) -> None:\n",
    "        super().__init__()\n",
    "        self.save_hyperparameters(\n",
    "            \"lr\",\n",
    "            \"backbone_name\",\n",
    "            \"num_modes\",\n",
    "            \"ba_size\",\n",
    "            \"epochs\",\n",
    "            \"optim_name\",\n",
    "            \"data_size\",\n",
    "            \"total_steps\",\n",
    "        )\n",
    "        self.model = lyft_models.LyftMultiModel(\n",
    "            cfg, num_modes=num_modes, backbone_name=backbone_name\n",
    "        )\n",
    "        self.test_keys = (\"world_from_agent\", \"centroid\", \"timestamp\", \"track_id\")\n",
    "\n",
    "    def forward(self, x):\n",
    "        x = self.model(x)\n",
    "        return x\n",
    "\n",
    "    def training_step(self, batch, batch_idx):\n",
    "        inputs = batch[\"image\"]\n",
    "        target_availabilities = batch[\"target_availabilities\"].unsqueeze(-1)\n",
    "        targets = batch[\"target_positions\"]\n",
    "\n",
    "        outputs, confidences = self.model(inputs)\n",
    "        loss = lyft_loss.pytorch_neg_multi_log_likelihood_batch(\n",
    "            targets,\n",
    "            outputs,\n",
    "            confidences.squeeze(),\n",
    "            target_availabilities.squeeze(),\n",
    "        )\n",
    "        self.log(\n",
    "            \"train_epoch_loss\",\n",
    "            loss,\n",
    "            prog_bar=False,\n",
    "            on_epoch=True,\n",
    "            on_step=False,\n",
    "        )\n",
    "        self.log(\"train_loss\", loss)\n",
    "        return loss\n",
    "\n",
    "    def validation_step(self, batch, batch_idx):\n",
    "        inputs = batch[\"image\"]\n",
    "        target_availabilities = batch[\"target_availabilities\"].unsqueeze(-1)\n",
    "        targets = batch[\"target_positions\"]\n",
    "\n",
    "        outputs, confidences = self.model(inputs)\n",
    "        loss = lyft_loss.pytorch_neg_multi_log_likelihood_batch(\n",
    "            targets,\n",
    "            outputs,\n",
    "            confidences.squeeze(),\n",
    "            target_availabilities.squeeze(),\n",
    "        )\n",
    "        self.log(\"val_loss\", loss)\n",
    "        return loss\n",
    "\n",
    "    def test_step(self, batch, batch_idx):\n",
    "        inputs = batch[\"image\"]\n",
    "        outputs, confidences = self.model(inputs)\n",
    "        test_batch = {key_: batch[key_] for key_ in self.test_keys}\n",
    "\n",
    "        return outputs, confidences, test_batch\n",
    "\n",
    "    def test_epoch_end(self, outputs):\n",
    "        \"\"\"from https://www.kaggle.com/pestipeti/pytorch-baseline-inference\"\"\"\n",
    "        pred_coords_list = []\n",
    "        confidences_list = []\n",
    "        timestamps_list = []\n",
    "        track_id_list = []\n",
    "\n",
    "        # convert into world coordinates and compute offsets\n",
    "        for outputs, confidences, batch in outputs:\n",
    "            outputs = outputs.cpu().numpy()\n",
    "\n",
    "            world_from_agents = batch[\"world_from_agent\"].cpu().numpy()\n",
    "            centroids = batch[\"centroid\"].cpu().numpy()\n",
    "            for idx in range(len(outputs)):\n",
    "                for mode in range(3):\n",
    "                    outputs[idx, mode, :, :] = (\n",
    "                        transform_points(\n",
    "                            outputs[idx, mode, :, :], world_from_agents[idx]\n",
    "                        )\n",
    "                        - centroids[idx][:2]\n",
    "                    )\n",
    "            pred_coords_list.append(outputs)\n",
    "\n",
    "            confidences_list.append(confidences)\n",
    "            timestamps_list.append(batch[\"timestamp\"])\n",
    "            track_id_list.append(batch[\"track_id\"])\n",
    "\n",
    "        coords = np.concatenate(pred_coords_list)\n",
    "        confs = torch.cat(confidences_list).cpu().numpy()\n",
    "        track_ids = torch.cat(track_id_list).cpu().numpy()\n",
    "        timestamps = torch.cat(timestamps_list).cpu().numpy()\n",
    "\n",
    "        write_pred_csv(\n",
    "            CSV_PATH,\n",
    "            timestamps=timestamps,\n",
    "            track_ids=track_ids,\n",
    "            coords=coords,\n",
    "            confs=confs,\n",
    "        )\n",
    "        print(f\"Saved to {CSV_PATH}\")\n",
    "\n",
    "    def configure_optimizers(self):\n",
    "        if self.hparams.optim_name == \"sgd\":\n",
    "            optimizer = torch.optim.SGD(\n",
    "                self.parameters(),\n",
    "                lr=self.hparams.lr,\n",
    "                momentum=0.9,\n",
    "                weight_decay=4e-5,\n",
    "            )\n",
    "        elif self.hparams.optim_name == \"adam\":\n",
    "            optimizer = torch.optim.Adam(self.parameters(), lr=self.hparams.lr)\n",
    "        else:\n",
    "            raise NotImplementedError\n",
    "        scheduler = torch.optim.lr_scheduler.OneCycleLR(\n",
    "            optimizer, max_lr=self.hparams.lr, total_steps=self.hparams.total_steps\n",
    "        )\n",
    "        return [optimizer], [scheduler]"
   ]
  },
  {
   "cell_type": "markdown",
   "metadata": {
    "papermill": {
     "duration": 0.015384,
     "end_time": "2020-12-25T22:31:36.793647",
     "exception": false,
     "start_time": "2020-12-25T22:31:36.778263",
     "status": "completed"
    },
    "tags": []
   },
   "source": [
    "## Instantiating DataModule"
   ]
  },
  {
   "cell_type": "code",
   "execution_count": 6,
   "metadata": {
    "_cell_guid": "79c7e3d0-c299-4dcb-8224-4455121ee9b0",
    "_uuid": "d629ff2d2480ee46fbb7e2d37f6b5fab8052498a",
    "execution": {
     "iopub.execute_input": "2020-12-25T22:31:36.832387Z",
     "iopub.status.busy": "2020-12-25T22:31:36.831432Z",
     "iopub.status.idle": "2020-12-25T22:31:47.023424Z",
     "shell.execute_reply": "2020-12-25T22:31:47.022758Z"
    },
    "papermill": {
     "duration": 10.214315,
     "end_time": "2020-12-25T22:31:47.023575",
     "exception": false,
     "start_time": "2020-12-25T22:31:36.809260",
     "status": "completed"
    },
    "tags": []
   },
   "outputs": [
    {
     "name": "stdout",
     "output_type": "stream",
     "text": [
      "test mode setup\n",
      "load zarr data: ../input/lyft-motion-prediction-autonomous-vehicles/scenes/test.zarr\n"
     ]
    },
    {
     "name": "stderr",
     "output_type": "stream",
     "text": [
      "/opt/conda/lib/python3.7/site-packages/ipykernel_launcher.py:101: RuntimeWarning: you're running with a custom agents_mask\n"
     ]
    },
    {
     "name": "stdout",
     "output_type": "stream",
     "text": [
      "+------------+------------+------------+---------------+-----------------+----------------------+----------------------+----------------------+---------------------+\n",
      "| Num Scenes | Num Frames | Num Agents | Num TR lights | Total Time (hr) | Avg Frames per Scene | Avg Agents per Frame | Avg Scene Time (sec) | Avg Frame frequency |\n",
      "+------------+------------+------------+---------------+-----------------+----------------------+----------------------+----------------------+---------------------+\n",
      "|   11314    |  1131400   |  88594921  |    7854144    |      31.43      |        100.00        |        78.31         |        10.00         |        10.00        |\n",
      "+------------+------------+------------+---------------+-----------------+----------------------+----------------------+----------------------+---------------------+\n"
     ]
    }
   ],
   "source": [
    "# ===== Configure LYFT dataset\n",
    "# mypy error due to pl.DataModule.transfer_batch_to_device\n",
    "mpred_dm = LyftMpredDatamodule(  # type: ignore[abstract]\n",
    "    args.l5kit_data_folder,\n",
    "    cfg,\n",
    "    batch_size=args.batch_size,\n",
    "    num_workers=args.num_workers,\n",
    "    downsample_train=args.downsample_train,\n",
    "    is_test=args.is_test,\n",
    "    is_debug=args.is_debug,\n",
    ")\n",
    "mpred_dm.prepare_data()\n",
    "mpred_dm.setup()"
   ]
  },
  {
   "cell_type": "markdown",
   "metadata": {
    "papermill": {
     "duration": 0.010626,
     "end_time": "2020-12-25T22:31:47.045421",
     "exception": false,
     "start_time": "2020-12-25T22:31:47.034795",
     "status": "completed"
    },
    "tags": []
   },
   "source": [
    "## Running test "
   ]
  },
  {
   "cell_type": "code",
   "execution_count": 7,
   "metadata": {
    "_cell_guid": "79c7e3d0-c299-4dcb-8224-4455121ee9b0",
    "_uuid": "d629ff2d2480ee46fbb7e2d37f6b5fab8052498a",
    "execution": {
     "iopub.execute_input": "2020-12-25T22:31:47.072568Z",
     "iopub.status.busy": "2020-12-25T22:31:47.071892Z",
     "iopub.status.idle": "2020-12-25T23:35:39.581158Z",
     "shell.execute_reply": "2020-12-25T23:35:39.578394Z"
    },
    "papermill": {
     "duration": 3832.525318,
     "end_time": "2020-12-25T23:35:39.581334",
     "exception": false,
     "start_time": "2020-12-25T22:31:47.056016",
     "status": "completed"
    },
    "tags": []
   },
   "outputs": [
    {
     "name": "stdout",
     "output_type": "stream",
     "text": [
      "\t\t ==== TEST MODE ====\n",
      "load from:  ../input/lyft-mpred-seresnext26-pretrained/epoch-v0.ckpt\n"
     ]
    },
    {
     "name": "stderr",
     "output_type": "stream",
     "text": [
      "Downloading: \"https://github.com/rwightman/pytorch-image-models/releases/download/v0.1-weights/seresnext26d_32x4d-80fa48a3.pth\" to /root/.cache/torch/hub/checkpoints/seresnext26d_32x4d-80fa48a3.pth\n",
      "GPU available: True, used: True\n",
      "TPU available: False, using: 0 TPU cores\n",
      "LOCAL_RANK: 0 - CUDA_VISIBLE_DEVICES: [0]\n"
     ]
    },
    {
     "data": {
      "application/vnd.jupyter.widget-view+json": {
       "model_id": "31a02ed47c264c15a5f8dbbb4274cccc",
       "version_major": 2,
       "version_minor": 0
      },
      "text/plain": [
       "HBox(children=(FloatProgress(value=1.0, bar_style='info', description='Testing', layout=Layout(flex='2'), max=…"
      ]
     },
     "metadata": {},
     "output_type": "display_data"
    },
    {
     "name": "stdout",
     "output_type": "stream",
     "text": [
      "Saved to ./submission.csv\n",
      "--------------------------------------------------------------------------------\n",
      "\n"
     ]
    }
   ],
   "source": [
    "if args.is_test:\n",
    "    print(\"\\t\\t ==== TEST MODE ====\")\n",
    "    print(\"load from: \", args.ckpt_path)\n",
    "    model = LitModel.load_from_checkpoint(args.ckpt_path, cfg=cfg)\n",
    "    trainer = pl.Trainer(gpus=len(args.visible_gpus.split(\",\")))\n",
    "    trainer.test(model, datamodule=mpred_dm)"
   ]
  },
  {
   "cell_type": "markdown",
   "metadata": {
    "papermill": {
     "duration": 0.012765,
     "end_time": "2020-12-25T23:35:39.608062",
     "exception": false,
     "start_time": "2020-12-25T23:35:39.595297",
     "status": "completed"
    },
    "tags": []
   },
   "source": [
    "## Running train"
   ]
  },
  {
   "cell_type": "code",
   "execution_count": 8,
   "metadata": {
    "_cell_guid": "79c7e3d0-c299-4dcb-8224-4455121ee9b0",
    "_uuid": "d629ff2d2480ee46fbb7e2d37f6b5fab8052498a",
    "execution": {
     "iopub.execute_input": "2020-12-25T23:35:39.644371Z",
     "iopub.status.busy": "2020-12-25T23:35:39.641493Z",
     "iopub.status.idle": "2020-12-25T23:35:39.646898Z",
     "shell.execute_reply": "2020-12-25T23:35:39.646510Z"
    },
    "papermill": {
     "duration": 0.026073,
     "end_time": "2020-12-25T23:35:39.646998",
     "exception": false,
     "start_time": "2020-12-25T23:35:39.620925",
     "status": "completed"
    },
    "tags": []
   },
   "outputs": [],
   "source": [
    "if not args.is_test:\n",
    "    print(\"\\t\\t ==== TRAIN MODE ====\")\n",
    "    print(\n",
    "        \"training samples: {}, valid samples: {}\".format(\n",
    "            len(mpred_dm.train_dataset), len(mpred_dm.val_dataset)\n",
    "        )\n",
    "    )\n",
    "    total_steps = args.epochs * len(mpred_dm.train_dataset) // args.batch_size\n",
    "    val_check_interval = VAL_INTERVAL_SAMPLES // args.batch_size\n",
    "\n",
    "    model = LitModel(\n",
    "        cfg,\n",
    "        lr=args.lr,\n",
    "        backbone_name=args.backbone_name,\n",
    "        num_modes=args.num_modes,\n",
    "        optim_name=args.optim_name,\n",
    "        ba_size=args.batch_size,\n",
    "        epochs=args.epochs,\n",
    "        data_size=len(mpred_dm.train_dataset),\n",
    "        total_steps=total_steps,\n",
    "    )\n",
    "\n",
    "    checkpoint_callback = pl.callbacks.ModelCheckpoint(\n",
    "        monitor=\"val_loss\",\n",
    "        save_last=True,\n",
    "        mode=\"min\",\n",
    "        verbose=True,\n",
    "    )\n",
    "    pl.trainer.seed_everything(seed=SEED)\n",
    "    trainer = pl.Trainer(\n",
    "        gpus=len(args.visible_gpus.split(\",\")),\n",
    "        max_steps=total_steps,\n",
    "        val_check_interval=val_check_interval,\n",
    "        precision=args.precision,\n",
    "        benchmark=True,\n",
    "        deterministic=False,\n",
    "        checkpoint_callback=checkpoint_callback,\n",
    "    )\n",
    "    # Run Training\n",
    "    trainer.fit(model, datamodule=mpred_dm)"
   ]
  },
  {
   "cell_type": "markdown",
   "metadata": {
    "papermill": {
     "duration": 0.012848,
     "end_time": "2020-12-25T23:35:39.673188",
     "exception": false,
     "start_time": "2020-12-25T23:35:39.660340",
     "status": "completed"
    },
    "tags": []
   },
   "source": [
    "Also you can check original code at [my github](https://github.com/Fkaneko/kaggle-lyft-motion-pred).\n",
    "To run the code at kaggle I changed some parts of my original code. "
   ]
  }
 ],
 "metadata": {
  "kernelspec": {
   "display_name": "Python 3",
   "language": "python",
   "name": "python3"
  },
  "language_info": {
   "codemirror_mode": {
    "name": "ipython",
    "version": 3
   },
   "file_extension": ".py",
   "mimetype": "text/x-python",
   "name": "python",
   "nbconvert_exporter": "python",
   "pygments_lexer": "ipython3",
   "version": "3.7.6"
  },
  "papermill": {
   "duration": 3864.691258,
   "end_time": "2020-12-25T23:35:40.700895",
   "environment_variables": {},
   "exception": null,
   "input_path": "__notebook__.ipynb",
   "output_path": "__notebook__.ipynb",
   "parameters": {},
   "start_time": "2020-12-25T22:31:16.009637",
   "version": "2.1.0"
  },
  "widgets": {
   "application/vnd.jupyter.widget-state+json": {
    "state": {
     "31a02ed47c264c15a5f8dbbb4274cccc": {
      "model_module": "@jupyter-widgets/controls",
      "model_module_version": "1.5.0",
      "model_name": "HBoxModel",
      "state": {
       "_dom_classes": [],
       "_model_module": "@jupyter-widgets/controls",
       "_model_module_version": "1.5.0",
       "_model_name": "HBoxModel",
       "_view_count": null,
       "_view_module": "@jupyter-widgets/controls",
       "_view_module_version": "1.5.0",
       "_view_name": "HBoxView",
       "box_style": "",
       "children": [
        "IPY_MODEL_4a1809a31657455f93c2bede5d87ac49",
        "IPY_MODEL_777bf80f5de245c1bd5b1f580e7f87a0"
       ],
       "layout": "IPY_MODEL_67522fb1786b49e3b52ecf45aa1ddd07"
      }
     },
     "4a1809a31657455f93c2bede5d87ac49": {
      "model_module": "@jupyter-widgets/controls",
      "model_module_version": "1.5.0",
      "model_name": "FloatProgressModel",
      "state": {
       "_dom_classes": [],
       "_model_module": "@jupyter-widgets/controls",
       "_model_module_version": "1.5.0",
       "_model_name": "FloatProgressModel",
       "_view_count": null,
       "_view_module": "@jupyter-widgets/controls",
       "_view_module_version": "1.5.0",
       "_view_name": "ProgressView",
       "bar_style": "success",
       "description": "Testing: 100%",
       "description_tooltip": null,
       "layout": "IPY_MODEL_b5df1ae8f24f4f44873c3e64ed68effa",
       "max": 1.0,
       "min": 0.0,
       "orientation": "horizontal",
       "style": "IPY_MODEL_dd7d9880ed44499695a5853ff45b24f8",
       "value": 1.0
      }
     },
     "65e047702b97419b99a20cda65defafa": {
      "model_module": "@jupyter-widgets/controls",
      "model_module_version": "1.5.0",
      "model_name": "DescriptionStyleModel",
      "state": {
       "_model_module": "@jupyter-widgets/controls",
       "_model_module_version": "1.5.0",
       "_model_name": "DescriptionStyleModel",
       "_view_count": null,
       "_view_module": "@jupyter-widgets/base",
       "_view_module_version": "1.2.0",
       "_view_name": "StyleView",
       "description_width": ""
      }
     },
     "67522fb1786b49e3b52ecf45aa1ddd07": {
      "model_module": "@jupyter-widgets/base",
      "model_module_version": "1.2.0",
      "model_name": "LayoutModel",
      "state": {
       "_model_module": "@jupyter-widgets/base",
       "_model_module_version": "1.2.0",
       "_model_name": "LayoutModel",
       "_view_count": null,
       "_view_module": "@jupyter-widgets/base",
       "_view_module_version": "1.2.0",
       "_view_name": "LayoutView",
       "align_content": null,
       "align_items": null,
       "align_self": null,
       "border": null,
       "bottom": null,
       "display": "inline-flex",
       "flex": null,
       "flex_flow": "row wrap",
       "grid_area": null,
       "grid_auto_columns": null,
       "grid_auto_flow": null,
       "grid_auto_rows": null,
       "grid_column": null,
       "grid_gap": null,
       "grid_row": null,
       "grid_template_areas": null,
       "grid_template_columns": null,
       "grid_template_rows": null,
       "height": null,
       "justify_content": null,
       "justify_items": null,
       "left": null,
       "margin": null,
       "max_height": null,
       "max_width": null,
       "min_height": null,
       "min_width": null,
       "object_fit": null,
       "object_position": null,
       "order": null,
       "overflow": null,
       "overflow_x": null,
       "overflow_y": null,
       "padding": null,
       "right": null,
       "top": null,
       "visibility": null,
       "width": "100%"
      }
     },
     "777bf80f5de245c1bd5b1f580e7f87a0": {
      "model_module": "@jupyter-widgets/controls",
      "model_module_version": "1.5.0",
      "model_name": "HTMLModel",
      "state": {
       "_dom_classes": [],
       "_model_module": "@jupyter-widgets/controls",
       "_model_module_version": "1.5.0",
       "_model_name": "HTMLModel",
       "_view_count": null,
       "_view_module": "@jupyter-widgets/controls",
       "_view_module_version": "1.5.0",
       "_view_name": "HTMLView",
       "description": "",
       "description_tooltip": null,
       "layout": "IPY_MODEL_cb34ffbf9cff461a9864b9ea9c3e8611",
       "placeholder": "​",
       "style": "IPY_MODEL_65e047702b97419b99a20cda65defafa",
       "value": " 2223/2223 [1:03:36&lt;00:00,  1.72s/it]"
      }
     },
     "b5df1ae8f24f4f44873c3e64ed68effa": {
      "model_module": "@jupyter-widgets/base",
      "model_module_version": "1.2.0",
      "model_name": "LayoutModel",
      "state": {
       "_model_module": "@jupyter-widgets/base",
       "_model_module_version": "1.2.0",
       "_model_name": "LayoutModel",
       "_view_count": null,
       "_view_module": "@jupyter-widgets/base",
       "_view_module_version": "1.2.0",
       "_view_name": "LayoutView",
       "align_content": null,
       "align_items": null,
       "align_self": null,
       "border": null,
       "bottom": null,
       "display": null,
       "flex": "2",
       "flex_flow": null,
       "grid_area": null,
       "grid_auto_columns": null,
       "grid_auto_flow": null,
       "grid_auto_rows": null,
       "grid_column": null,
       "grid_gap": null,
       "grid_row": null,
       "grid_template_areas": null,
       "grid_template_columns": null,
       "grid_template_rows": null,
       "height": null,
       "justify_content": null,
       "justify_items": null,
       "left": null,
       "margin": null,
       "max_height": null,
       "max_width": null,
       "min_height": null,
       "min_width": null,
       "object_fit": null,
       "object_position": null,
       "order": null,
       "overflow": null,
       "overflow_x": null,
       "overflow_y": null,
       "padding": null,
       "right": null,
       "top": null,
       "visibility": null,
       "width": null
      }
     },
     "cb34ffbf9cff461a9864b9ea9c3e8611": {
      "model_module": "@jupyter-widgets/base",
      "model_module_version": "1.2.0",
      "model_name": "LayoutModel",
      "state": {
       "_model_module": "@jupyter-widgets/base",
       "_model_module_version": "1.2.0",
       "_model_name": "LayoutModel",
       "_view_count": null,
       "_view_module": "@jupyter-widgets/base",
       "_view_module_version": "1.2.0",
       "_view_name": "LayoutView",
       "align_content": null,
       "align_items": null,
       "align_self": null,
       "border": null,
       "bottom": null,
       "display": null,
       "flex": null,
       "flex_flow": null,
       "grid_area": null,
       "grid_auto_columns": null,
       "grid_auto_flow": null,
       "grid_auto_rows": null,
       "grid_column": null,
       "grid_gap": null,
       "grid_row": null,
       "grid_template_areas": null,
       "grid_template_columns": null,
       "grid_template_rows": null,
       "height": null,
       "justify_content": null,
       "justify_items": null,
       "left": null,
       "margin": null,
       "max_height": null,
       "max_width": null,
       "min_height": null,
       "min_width": null,
       "object_fit": null,
       "object_position": null,
       "order": null,
       "overflow": null,
       "overflow_x": null,
       "overflow_y": null,
       "padding": null,
       "right": null,
       "top": null,
       "visibility": null,
       "width": null
      }
     },
     "dd7d9880ed44499695a5853ff45b24f8": {
      "model_module": "@jupyter-widgets/controls",
      "model_module_version": "1.5.0",
      "model_name": "ProgressStyleModel",
      "state": {
       "_model_module": "@jupyter-widgets/controls",
       "_model_module_version": "1.5.0",
       "_model_name": "ProgressStyleModel",
       "_view_count": null,
       "_view_module": "@jupyter-widgets/base",
       "_view_module_version": "1.2.0",
       "_view_name": "StyleView",
       "bar_color": null,
       "description_width": "initial"
      }
     }
    },
    "version_major": 2,
    "version_minor": 0
   }
  }
 },
 "nbformat": 4,
 "nbformat_minor": 4
}
